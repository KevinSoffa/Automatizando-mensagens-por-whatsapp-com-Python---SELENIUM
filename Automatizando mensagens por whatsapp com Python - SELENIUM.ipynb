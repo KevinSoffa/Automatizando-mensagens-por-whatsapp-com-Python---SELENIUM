{
 "cells": [
  {
   "cell_type": "markdown",
   "id": "79ab7886",
   "metadata": {},
   "source": [
    "# Kevin Soffa\n",
    "## Automatizando mensagens por whatsapp com Python - SELENUIM"
   ]
  },
  {
   "cell_type": "code",
   "execution_count": 1,
   "id": "36e19147",
   "metadata": {},
   "outputs": [
    {
     "data": {
      "text/html": [
       "<div>\n",
       "<style scoped>\n",
       "    .dataframe tbody tr th:only-of-type {\n",
       "        vertical-align: middle;\n",
       "    }\n",
       "\n",
       "    .dataframe tbody tr th {\n",
       "        vertical-align: top;\n",
       "    }\n",
       "\n",
       "    .dataframe thead th {\n",
       "        text-align: right;\n",
       "    }\n",
       "</style>\n",
       "<table border=\"1\" class=\"dataframe\">\n",
       "  <thead>\n",
       "    <tr style=\"text-align: right;\">\n",
       "      <th></th>\n",
       "      <th>Pessoa</th>\n",
       "      <th>Número</th>\n",
       "      <th>Mensagem</th>\n",
       "    </tr>\n",
       "  </thead>\n",
       "  <tbody>\n",
       "    <tr>\n",
       "      <th>0</th>\n",
       "      <td>Fernanda</td>\n",
       "      <td>7777777777</td>\n",
       "      <td>Olá, e ai como vai?  Mensagem enviada por Robô</td>\n",
       "    </tr>\n",
       "    <tr>\n",
       "      <th>1</th>\n",
       "      <td>Leo</td>\n",
       "      <td>8888888888</td>\n",
       "      <td>E aí, tudo bem?  Mensagem enviada por Robô</td>\n",
       "    </tr>\n",
       "    <tr>\n",
       "      <th>2</th>\n",
       "      <td>Rosana</td>\n",
       "      <td>9999999999</td>\n",
       "      <td>E aí, tudo bem?  Mensaem enviada por Robô</td>\n",
       "    </tr>\n",
       "  </tbody>\n",
       "</table>\n",
       "</div>"
      ],
      "text/plain": [
       "     Pessoa      Número                                        Mensagem\n",
       "0  Fernanda  7777777777  Olá, e ai como vai?  Mensagem enviada por Robô\n",
       "1       Leo  8888888888      E aí, tudo bem?  Mensagem enviada por Robô\n",
       "2    Rosana  9999999999       E aí, tudo bem?  Mensaem enviada por Robô"
      ]
     },
     "metadata": {},
     "output_type": "display_data"
    }
   ],
   "source": [
    "# Passo 1: Lendo a planilha com os dados e mensagens;\n",
    "\n",
    "import pandas as pd\n",
    "\n",
    "contatos_df = pd.read_excel('Enviar.xlsx')# Arquivo com as informações\n",
    "display(contatos_df)\n",
    "#Números fictícios"
   ]
  },
  {
   "cell_type": "code",
   "execution_count": 2,
   "id": "e08433dc",
   "metadata": {},
   "outputs": [],
   "source": [
    "# Passo 2: Importar biblioteca necessária para o código;\n",
    "\n",
    "from selenium import webdriver\n",
    "from selenium.webdriver.common.keys import Keys\n",
    "import time\n",
    "import urllib\n",
    "\n",
    "# Passo 3: Abrindo o nevegador e entrando no whatsapp\n",
    "navegador = webdriver.Chrome()\n",
    "navegador.get(\"https://web.whatsapp.com/\")\n",
    "# Esperando a login por \"qr code\"\n",
    "while len(navegador. find_elements_by_id(\"side\")) < 1:\n",
    "    time.sleep(1)\n",
    "    \n",
    "# Passo 4: Enviando mensagem personalizada para cada contato na lista(Excel) \n",
    "for i, mensagem in enumerate(contatos_df['Mensagem']):\n",
    "    pessoa = contatos_df.loc[i,\"Pessoa\" ]\n",
    "    numero = contatos_df.loc[i, \"Número\"]\n",
    "    texto = urllib.parse.quote(f\"Olá, {pessoa}! {mensagem}\")\n",
    "    link = (f\"https://web.whatsapp.com/send?phone={numero}&text={texto}\")\n",
    "    navegador.get(link)\n",
    "    while len(navegador. find_elements_by_id(\"side\")) < 1:\n",
    "        time.sleep(1)\n",
    "    navegador.find_element_by_xpath('//*[@id=\"main\"]/footer/div[1]/div[2]/div/div[1]/div/div[2]').send_keys(Keys.ENTER)\n",
    "    time.sleep(10)"
   ]
  }
 ],
 "metadata": {
  "kernelspec": {
   "display_name": "Python 3",
   "language": "python",
   "name": "python3"
  },
  "language_info": {
   "codemirror_mode": {
    "name": "ipython",
    "version": 3
   },
   "file_extension": ".py",
   "mimetype": "text/x-python",
   "name": "python",
   "nbconvert_exporter": "python",
   "pygments_lexer": "ipython3",
   "version": "3.8.8"
  }
 },
 "nbformat": 4,
 "nbformat_minor": 5
}
